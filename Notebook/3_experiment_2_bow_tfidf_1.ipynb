{
 "cells": [
  {
   "cell_type": "code",
   "execution_count": 4,
   "id": "c99e21dc-4110-4fab-8273-7481b76b4b85",
   "metadata": {},
   "outputs": [],
   "source": [
    "# Imports\n",
    "import pandas as pd\n",
    "import numpy as np\n",
    "import matplotlib.pyplot as plt\n",
    "import seaborn as sns\n",
    "import pickle\n",
    "\n",
    "from sklearn.model_selection import train_test_split, RandomizedSearchCV\n",
    "from sklearn.feature_extraction.text import TfidfVectorizer\n",
    "from sklearn.linear_model import LogisticRegression\n",
    "from sklearn.metrics import accuracy_score, precision_score, recall_score, f1_score, confusion_matrix, classification_report"
   ]
  },
  {
   "cell_type": "code",
   "execution_count": 5,
   "id": "68a2c167-8dd4-4b6b-9cda-7383ed77b7d1",
   "metadata": {},
   "outputs": [
    {
     "data": {
      "text/html": [
       "<div>\n",
       "<style scoped>\n",
       "    .dataframe tbody tr th:only-of-type {\n",
       "        vertical-align: middle;\n",
       "    }\n",
       "\n",
       "    .dataframe tbody tr th {\n",
       "        vertical-align: top;\n",
       "    }\n",
       "\n",
       "    .dataframe thead th {\n",
       "        text-align: right;\n",
       "    }\n",
       "</style>\n",
       "<table border=\"1\" class=\"dataframe\">\n",
       "  <thead>\n",
       "    <tr style=\"text-align: right;\">\n",
       "      <th></th>\n",
       "      <th>clean_comment</th>\n",
       "      <th>category</th>\n",
       "    </tr>\n",
       "  </thead>\n",
       "  <tbody>\n",
       "    <tr>\n",
       "      <th>0</th>\n",
       "      <td>film absolutely awful, but nevertheless, hilar...</td>\n",
       "      <td>0</td>\n",
       "    </tr>\n",
       "    <tr>\n",
       "      <th>1</th>\n",
       "      <td>well since seeing part 1 3 honestly say never ...</td>\n",
       "      <td>0</td>\n",
       "    </tr>\n",
       "    <tr>\n",
       "      <th>2</th>\n",
       "      <td>got see film preview dazzled it. not typical r...</td>\n",
       "      <td>1</td>\n",
       "    </tr>\n",
       "    <tr>\n",
       "      <th>3</th>\n",
       "      <td>adaptation positively butcher classic beloved ...</td>\n",
       "      <td>0</td>\n",
       "    </tr>\n",
       "    <tr>\n",
       "      <th>4</th>\n",
       "      <td>rzone awful movie! simple. seems tried make mo...</td>\n",
       "      <td>0</td>\n",
       "    </tr>\n",
       "  </tbody>\n",
       "</table>\n",
       "</div>"
      ],
      "text/plain": [
       "                                       clean_comment  category\n",
       "0  film absolutely awful, but nevertheless, hilar...         0\n",
       "1  well since seeing part 1 3 honestly say never ...         0\n",
       "2  got see film preview dazzled it. not typical r...         1\n",
       "3  adaptation positively butcher classic beloved ...         0\n",
       "4  rzone awful movie! simple. seems tried make mo...         0"
      ]
     },
     "execution_count": 5,
     "metadata": {},
     "output_type": "execute_result"
    }
   ],
   "source": [
    "df = pd.read_csv('reddit_preprocessing.csv').dropna(subset=['clean_comment'])\n",
    "df.head()"
   ]
  },
  {
   "cell_type": "code",
   "execution_count": 6,
   "id": "26105604-a837-4190-ab7f-e5d7f91c5b66",
   "metadata": {},
   "outputs": [],
   "source": [
    "# Train-test split\n",
    "X_train, X_test, y_train, y_test = train_test_split(\n",
    "    df['clean_comment'], \n",
    "    df['category'], \n",
    "    test_size=0.2, \n",
    "    random_state=42, \n",
    "    stratify=df['category']\n",
    ")"
   ]
  },
  {
   "cell_type": "code",
   "execution_count": 7,
   "id": "edbb7f34-4461-4b16-a2a9-eeb7f9ac3165",
   "metadata": {},
   "outputs": [],
   "source": [
    "# TF-IDF Vectorization\n",
    "vectorizer = TfidfVectorizer(ngram_range=(1, 2), max_features=5000)\n",
    "X_train_vec = vectorizer.fit_transform(X_train)\n",
    "X_test_vec = vectorizer.transform(X_test)"
   ]
  },
  {
   "cell_type": "code",
   "execution_count": 8,
   "id": "e8c2a27b-6430-4178-a275-e6ee92666c94",
   "metadata": {},
   "outputs": [
    {
     "name": "stdout",
     "output_type": "stream",
     "text": [
      "Fitting 5 folds for each of 20 candidates, totalling 100 fits\n",
      "Best Parameters: {'penalty': 'elasticnet', 'l1_ratio': np.float64(0.0), 'C': np.float64(0.46415888336127775)}\n"
     ]
    }
   ],
   "source": [
    "# Logistic Regression Model\n",
    "log_reg = LogisticRegression(max_iter=500, solver='saga')\n",
    "\n",
    "# Hyperparameter space\n",
    "param_dist = {\n",
    "    'C': np.logspace(-3, 3, 10),\n",
    "    'penalty': ['l1', 'l2', 'elasticnet', None],\n",
    "    'l1_ratio': np.linspace(0, 1, 5)  # Only used if penalty='elasticnet'\n",
    "}\n",
    "\n",
    "# Random Search\n",
    "random_search = RandomizedSearchCV(\n",
    "    estimator=log_reg,\n",
    "    param_distributions=param_dist,\n",
    "    n_iter=20,\n",
    "    scoring='f1_macro',\n",
    "    cv=5,\n",
    "    verbose=2,\n",
    "    random_state=42,\n",
    "    n_jobs=-1\n",
    ")\n",
    "\n",
    "random_search.fit(X_train_vec, y_train)\n",
    "\n",
    "print(\"Best Parameters:\", random_search.best_params_)"
   ]
  },
  {
   "cell_type": "code",
   "execution_count": 9,
   "id": "fbebe09f-16d0-4120-8f38-429c2fd4dc81",
   "metadata": {},
   "outputs": [
    {
     "name": "stdout",
     "output_type": "stream",
     "text": [
      "Accuracy: 0.8846\n",
      "Precision: 0.8848\n",
      "Recall: 0.8845\n",
      "F1-score: 0.8845\n",
      "\n",
      "Classification Report:\n",
      "               precision    recall  f1-score   support\n",
      "\n",
      "           0       0.89      0.87      0.88      2486\n",
      "           1       0.88      0.90      0.89      2495\n",
      "\n",
      "    accuracy                           0.88      4981\n",
      "   macro avg       0.88      0.88      0.88      4981\n",
      "weighted avg       0.88      0.88      0.88      4981\n",
      "\n"
     ]
    }
   ],
   "source": [
    "# Best model\n",
    "best_model = random_search.best_estimator_\n",
    "\n",
    "# Predictions\n",
    "y_pred = best_model.predict(X_test_vec)\n",
    "\n",
    "# Metrics\n",
    "accuracy = accuracy_score(y_test, y_pred)\n",
    "precision = precision_score(y_test, y_pred, average='macro')\n",
    "recall = recall_score(y_test, y_pred, average='macro')\n",
    "f1 = f1_score(y_test, y_pred, average='macro')\n",
    "\n",
    "print(f\"Accuracy: {accuracy:.4f}\")\n",
    "print(f\"Precision: {precision:.4f}\")\n",
    "print(f\"Recall: {recall:.4f}\")\n",
    "print(f\"F1-score: {f1:.4f}\")\n",
    "\n",
    "print(\"\\nClassification Report:\\n\", classification_report(y_test, y_pred))"
   ]
  },
  {
   "cell_type": "code",
   "execution_count": 10,
   "id": "d0972d17-a228-406f-9e7b-4bc787ee5b17",
   "metadata": {},
   "outputs": [
    {
     "data": {
      "text/html": [
       "<div>\n",
       "<style scoped>\n",
       "    .dataframe tbody tr th:only-of-type {\n",
       "        vertical-align: middle;\n",
       "    }\n",
       "\n",
       "    .dataframe tbody tr th {\n",
       "        vertical-align: top;\n",
       "    }\n",
       "\n",
       "    .dataframe thead th {\n",
       "        text-align: right;\n",
       "    }\n",
       "</style>\n",
       "<table border=\"1\" class=\"dataframe\">\n",
       "  <thead>\n",
       "    <tr style=\"text-align: right;\">\n",
       "      <th></th>\n",
       "      <th>clean_comment</th>\n",
       "      <th>category</th>\n",
       "    </tr>\n",
       "  </thead>\n",
       "  <tbody>\n",
       "    <tr>\n",
       "      <th>0</th>\n",
       "      <td>film absolutely awful, but nevertheless, hilar...</td>\n",
       "      <td>0</td>\n",
       "    </tr>\n",
       "    <tr>\n",
       "      <th>1</th>\n",
       "      <td>well since seeing part 1 3 honestly say never ...</td>\n",
       "      <td>0</td>\n",
       "    </tr>\n",
       "    <tr>\n",
       "      <th>2</th>\n",
       "      <td>got see film preview dazzled it. not typical r...</td>\n",
       "      <td>1</td>\n",
       "    </tr>\n",
       "    <tr>\n",
       "      <th>3</th>\n",
       "      <td>adaptation positively butcher classic beloved ...</td>\n",
       "      <td>0</td>\n",
       "    </tr>\n",
       "    <tr>\n",
       "      <th>4</th>\n",
       "      <td>rzone awful movie! simple. seems tried make mo...</td>\n",
       "      <td>0</td>\n",
       "    </tr>\n",
       "  </tbody>\n",
       "</table>\n",
       "</div>"
      ],
      "text/plain": [
       "                                       clean_comment  category\n",
       "0  film absolutely awful, but nevertheless, hilar...         0\n",
       "1  well since seeing part 1 3 honestly say never ...         0\n",
       "2  got see film preview dazzled it. not typical r...         1\n",
       "3  adaptation positively butcher classic beloved ...         0\n",
       "4  rzone awful movie! simple. seems tried make mo...         0"
      ]
     },
     "execution_count": 10,
     "metadata": {},
     "output_type": "execute_result"
    }
   ],
   "source": [
    "df = pd.read_csv('reddit_preprocessing.csv').dropna(subset=['clean_comment'])\n",
    "df.head()"
   ]
  },
  {
   "cell_type": "code",
   "execution_count": 11,
   "id": "2ad1a43f-57e8-427d-bc4f-0dc711a7a5b7",
   "metadata": {},
   "outputs": [],
   "source": [
    "# Train-test split\n",
    "X_train, X_test, y_train, y_test = train_test_split(\n",
    "    df['clean_comment'], \n",
    "    df['category'], \n",
    "    test_size=0.2, \n",
    "    random_state=42, \n",
    "    stratify=df['category']\n",
    ")"
   ]
  },
  {
   "cell_type": "code",
   "execution_count": 12,
   "id": "6bfe3098-1da9-4df0-999a-9a81da43c067",
   "metadata": {},
   "outputs": [
    {
     "data": {
      "text/plain": [
       "(19923,)"
      ]
     },
     "execution_count": 12,
     "metadata": {},
     "output_type": "execute_result"
    }
   ],
   "source": [
    "X_train.shape"
   ]
  },
  {
   "cell_type": "code",
   "execution_count": 13,
   "id": "4aeab5c9-7807-4c62-950f-4e9ee057ebeb",
   "metadata": {},
   "outputs": [],
   "source": [
    "# TF-IDF Vectorization\n",
    "vectorizer = TfidfVectorizer(ngram_range=(1,3), max_features=5000)\n",
    "X_train_vec = vectorizer.fit_transform(X_train)\n",
    "X_test_vec = vectorizer.transform(X_test)"
   ]
  },
  {
   "cell_type": "code",
   "execution_count": 14,
   "id": "e3791dfb-49bc-4a4e-9cd4-a78960cdbec6",
   "metadata": {},
   "outputs": [
    {
     "name": "stdout",
     "output_type": "stream",
     "text": [
      "Fitting 5 folds for each of 20 candidates, totalling 100 fits\n",
      "Best Parameters: {'penalty': 'elasticnet', 'l1_ratio': np.float64(0.0), 'C': np.float64(0.46415888336127775)}\n"
     ]
    }
   ],
   "source": [
    "# Logistic Regression Model\n",
    "log_reg = LogisticRegression(max_iter=500, solver='saga')\n",
    "\n",
    "# Hyperparameter space\n",
    "param_dist = {\n",
    "    'C': np.logspace(-3, 3, 10),\n",
    "    'penalty': ['l1', 'l2', 'elasticnet', None],\n",
    "    'l1_ratio': np.linspace(0, 1, 5)  # Only used if penalty='elasticnet'\n",
    "}\n",
    "\n",
    "# Random Search\n",
    "random_search = RandomizedSearchCV(\n",
    "    estimator=log_reg,\n",
    "    param_distributions=param_dist,\n",
    "    n_iter=20,\n",
    "    scoring='f1_macro',\n",
    "    cv=5,\n",
    "    verbose=2,\n",
    "    random_state=42,\n",
    "    n_jobs=-1\n",
    ")\n",
    "\n",
    "random_search.fit(X_train_vec, y_train)\n",
    "\n",
    "print(\"Best Parameters:\", random_search.best_params_)"
   ]
  },
  {
   "cell_type": "code",
   "execution_count": 15,
   "id": "d1162d6a-618d-4ee9-b1bd-ab635380ce9f",
   "metadata": {},
   "outputs": [
    {
     "name": "stdout",
     "output_type": "stream",
     "text": [
      "Accuracy: 0.8848\n",
      "Precision: 0.8849\n",
      "Recall: 0.8847\n",
      "F1-score: 0.8847\n",
      "\n",
      "Classification Report:\n",
      "               precision    recall  f1-score   support\n",
      "\n",
      "           0       0.89      0.87      0.88      2486\n",
      "           1       0.88      0.90      0.89      2495\n",
      "\n",
      "    accuracy                           0.88      4981\n",
      "   macro avg       0.88      0.88      0.88      4981\n",
      "weighted avg       0.88      0.88      0.88      4981\n",
      "\n"
     ]
    }
   ],
   "source": [
    "# Best model\n",
    "best_model = random_search.best_estimator_\n",
    "\n",
    "# Predictions\n",
    "y_pred = best_model.predict(X_test_vec)\n",
    "\n",
    "# Metrics\n",
    "accuracy = accuracy_score(y_test, y_pred)\n",
    "precision = precision_score(y_test, y_pred, average='macro')\n",
    "recall = recall_score(y_test, y_pred, average='macro')\n",
    "f1 = f1_score(y_test, y_pred, average='macro')\n",
    "\n",
    "print(f\"Accuracy: {accuracy:.4f}\")\n",
    "print(f\"Precision: {precision:.4f}\")\n",
    "print(f\"Recall: {recall:.4f}\")\n",
    "print(f\"F1-score: {f1:.4f}\")\n",
    "\n",
    "print(\"\\nClassification Report:\\n\", classification_report(y_test, y_pred))"
   ]
  },
  {
   "cell_type": "code",
   "execution_count": 30,
   "id": "c6b10080-6fed-4993-839f-5440891bde71",
   "metadata": {},
   "outputs": [
    {
     "data": {
      "text/html": [
       "<div>\n",
       "<style scoped>\n",
       "    .dataframe tbody tr th:only-of-type {\n",
       "        vertical-align: middle;\n",
       "    }\n",
       "\n",
       "    .dataframe tbody tr th {\n",
       "        vertical-align: top;\n",
       "    }\n",
       "\n",
       "    .dataframe thead th {\n",
       "        text-align: right;\n",
       "    }\n",
       "</style>\n",
       "<table border=\"1\" class=\"dataframe\">\n",
       "  <thead>\n",
       "    <tr style=\"text-align: right;\">\n",
       "      <th></th>\n",
       "      <th>clean_comment</th>\n",
       "      <th>category</th>\n",
       "    </tr>\n",
       "  </thead>\n",
       "  <tbody>\n",
       "    <tr>\n",
       "      <th>0</th>\n",
       "      <td>film absolutely awful, but nevertheless, hilar...</td>\n",
       "      <td>0</td>\n",
       "    </tr>\n",
       "    <tr>\n",
       "      <th>1</th>\n",
       "      <td>well since seeing part 1 3 honestly say never ...</td>\n",
       "      <td>0</td>\n",
       "    </tr>\n",
       "    <tr>\n",
       "      <th>2</th>\n",
       "      <td>got see film preview dazzled it. not typical r...</td>\n",
       "      <td>1</td>\n",
       "    </tr>\n",
       "    <tr>\n",
       "      <th>3</th>\n",
       "      <td>adaptation positively butcher classic beloved ...</td>\n",
       "      <td>0</td>\n",
       "    </tr>\n",
       "    <tr>\n",
       "      <th>4</th>\n",
       "      <td>rzone awful movie! simple. seems tried make mo...</td>\n",
       "      <td>0</td>\n",
       "    </tr>\n",
       "  </tbody>\n",
       "</table>\n",
       "</div>"
      ],
      "text/plain": [
       "                                       clean_comment  category\n",
       "0  film absolutely awful, but nevertheless, hilar...         0\n",
       "1  well since seeing part 1 3 honestly say never ...         0\n",
       "2  got see film preview dazzled it. not typical r...         1\n",
       "3  adaptation positively butcher classic beloved ...         0\n",
       "4  rzone awful movie! simple. seems tried make mo...         0"
      ]
     },
     "execution_count": 30,
     "metadata": {},
     "output_type": "execute_result"
    }
   ],
   "source": [
    "df = pd.read_csv('reddit_preprocessing.csv').dropna(subset=['clean_comment'])\n",
    "df.head()"
   ]
  },
  {
   "cell_type": "code",
   "execution_count": 31,
   "id": "1d98df0c-134d-4d83-a527-9cc9311915e6",
   "metadata": {},
   "outputs": [
    {
     "name": "stdout",
     "output_type": "stream",
     "text": [
      "(19923,) (4981,)\n"
     ]
    }
   ],
   "source": [
    "# Assuming your dataframe is df and the target column is 'category'\n",
    "X = df['clean_comment']  # Features (text)\n",
    "y = df['category']       # Target\n",
    "\n",
    "# Split into train and test\n",
    "X_train, X_test, y_train, y_test = train_test_split(\n",
    "    X, y, test_size=0.2, random_state=42, stratify=y\n",
    ")\n",
    "\n",
    "print(X_train.shape, X_test.shape)"
   ]
  },
  {
   "cell_type": "code",
   "execution_count": 32,
   "id": "5a8f7df2-c47e-4dba-ad28-937dbd819817",
   "metadata": {},
   "outputs": [
    {
     "name": "stdout",
     "output_type": "stream",
     "text": [
      "Training for ngram_range=(1, 1)\n",
      "Training for ngram_range=(1, 2)\n",
      "Training for ngram_range=(1, 3)\n"
     ]
    }
   ],
   "source": [
    "ngram_options = [(1,1), (1,2), (1,3)]\n",
    "results = []\n",
    "\n",
    "for ngram in ngram_options:\n",
    "    print(f\"Training for ngram_range={ngram}\")\n",
    "    \n",
    "    # Vectorization\n",
    "    vectorizer = TfidfVectorizer(ngram_range=ngram, max_features=5000)\n",
    "    X_train_vec = vectorizer.fit_transform(X_train)\n",
    "    X_test_vec = vectorizer.transform(X_test)\n",
    "    \n",
    "    # Logistic Regression + RandomizedSearch\n",
    "    param_dist = {\n",
    "        'C': [0.01, 0.1, 1, 10, 100],\n",
    "        'solver': ['liblinear', 'lbfgs'],\n",
    "        'max_iter': [100, 200, 300]\n",
    "    }\n",
    "    \n",
    "    clf = LogisticRegression(random_state=42)\n",
    "    cv = StratifiedKFold(n_splits=5, shuffle=True, random_state=42)\n",
    "    \n",
    "    random_search = RandomizedSearchCV(\n",
    "        clf, param_distributions=param_dist, n_iter=5,\n",
    "        scoring='f1_macro', n_jobs=-1, cv=cv, random_state=42, verbose=0\n",
    "    )\n",
    "    \n",
    "    random_search.fit(X_train_vec, y_train)\n",
    "    \n",
    "    # Predictions\n",
    "    y_pred = random_search.predict(X_test_vec)\n",
    "    \n",
    "    # Metrics\n",
    "    acc = accuracy_score(y_test, y_pred)\n",
    "    prec = precision_score(y_test, y_pred, average='macro')\n",
    "    rec = recall_score(y_test, y_pred, average='macro')\n",
    "    f1 = f1_score(y_test, y_pred, average='macro')\n",
    "    \n",
    "    # Store results with vectorizer and model\n",
    "    results.append({\n",
    "        'ngram': ngram,\n",
    "        'accuracy': acc,\n",
    "        'precision': prec,\n",
    "        'recall': rec,\n",
    "        'f1': f1,\n",
    "        'best_params': random_search.best_params_,\n",
    "        'model': random_search.best_estimator_,\n",
    "        'vectorizer': vectorizer   \n",
    "    })"
   ]
  },
  {
   "cell_type": "code",
   "execution_count": 33,
   "id": "faf7b10b-6cef-42bd-bea5-e74d7e59951e",
   "metadata": {},
   "outputs": [
    {
     "name": "stdout",
     "output_type": "stream",
     "text": [
      "Best ngram: (1, 3)\n",
      "Accuracy: 0.8891788797430235\n",
      "Precision: 0.8892671284238705\n",
      "Recall: 0.8891654588339994\n",
      "F1-score: 0.8891698338816436\n",
      "Best Params: {'solver': 'lbfgs', 'max_iter': 200, 'C': 1}\n"
     ]
    },
    {
     "data": {
      "image/png": "[encoded data removed]",
      "text/plain": [
       "<Figure size 600x500 with 2 Axes>"
      ]
     },
     "metadata": {},
     "output_type": "display_data"
    }
   ],
   "source": [
    "results_df = pd.DataFrame(results)\n",
    "best_idx = results_df['f1'].idxmax()\n",
    "best_result = results[best_idx]\n",
    "\n",
    "print(\"Best ngram:\", best_result['ngram'])\n",
    "print(\"Accuracy:\", best_result['accuracy'])\n",
    "print(\"Precision:\", best_result['precision'])\n",
    "print(\"Recall:\", best_result['recall'])\n",
    "print(\"F1-score:\", best_result['f1'])\n",
    "print(\"Best Params:\", best_result['best_params'])\n",
    "\n",
    "X_test_vec_best = best_result['vectorizer'].transform(X_test)\n",
    "y_pred_best = best_result['model'].predict(X_test_vec_best)\n",
    "\n",
    "cm = confusion_matrix(y_test, y_pred_best)\n",
    "plt.figure(figsize=(6,5))\n",
    "sns.heatmap(cm, annot=True, fmt='d', cmap='Blues')\n",
    "plt.title(f\"Confusion Matrix for best ngram={best_result['ngram']}\")\n",
    "plt.xlabel(\"Predicted\")\n",
    "plt.ylabel(\"Actual\")\n",
    "plt.show()"
   ]
  },
  {
   "cell_type": "code",
   "execution_count": 36,
   "id": "33f8e803-f3ae-4692-824a-68a6305f6b67",
   "metadata": {},
   "outputs": [],
   "source": [
    "import pandas as pd\n",
    "import numpy as np\n",
    "import matplotlib.pyplot as plt\n",
    "import seaborn as sns\n",
    "import pickle\n",
    "\n",
    "from sklearn.model_selection import train_test_split, RandomizedSearchCV, StratifiedKFold\n",
    "from sklearn.feature_extraction.text import CountVectorizer, TfidfVectorizer\n",
    "from sklearn.linear_model import LogisticRegression\n",
    "from sklearn.metrics import accuracy_score, precision_score, recall_score, f1_score, confusion_matrix, classification_report"
   ]
  },
  {
   "cell_type": "code",
   "execution_count": 37,
   "id": "803f7983-7df4-4930-a284-00a13a915f26",
   "metadata": {},
   "outputs": [
    {
     "data": {
      "text/html": [
       "<div>\n",
       "<style scoped>\n",
       "    .dataframe tbody tr th:only-of-type {\n",
       "        vertical-align: middle;\n",
       "    }\n",
       "\n",
       "    .dataframe tbody tr th {\n",
       "        vertical-align: top;\n",
       "    }\n",
       "\n",
       "    .dataframe thead th {\n",
       "        text-align: right;\n",
       "    }\n",
       "</style>\n",
       "<table border=\"1\" class=\"dataframe\">\n",
       "  <thead>\n",
       "    <tr style=\"text-align: right;\">\n",
       "      <th></th>\n",
       "      <th>clean_comment</th>\n",
       "      <th>category</th>\n",
       "    </tr>\n",
       "  </thead>\n",
       "  <tbody>\n",
       "    <tr>\n",
       "      <th>0</th>\n",
       "      <td>film absolutely awful, but nevertheless, hilar...</td>\n",
       "      <td>0</td>\n",
       "    </tr>\n",
       "    <tr>\n",
       "      <th>1</th>\n",
       "      <td>well since seeing part 1 3 honestly say never ...</td>\n",
       "      <td>0</td>\n",
       "    </tr>\n",
       "    <tr>\n",
       "      <th>2</th>\n",
       "      <td>got see film preview dazzled it. not typical r...</td>\n",
       "      <td>1</td>\n",
       "    </tr>\n",
       "    <tr>\n",
       "      <th>3</th>\n",
       "      <td>adaptation positively butcher classic beloved ...</td>\n",
       "      <td>0</td>\n",
       "    </tr>\n",
       "    <tr>\n",
       "      <th>4</th>\n",
       "      <td>rzone awful movie! simple. seems tried make mo...</td>\n",
       "      <td>0</td>\n",
       "    </tr>\n",
       "  </tbody>\n",
       "</table>\n",
       "</div>"
      ],
      "text/plain": [
       "                                       clean_comment  category\n",
       "0  film absolutely awful, but nevertheless, hilar...         0\n",
       "1  well since seeing part 1 3 honestly say never ...         0\n",
       "2  got see film preview dazzled it. not typical r...         1\n",
       "3  adaptation positively butcher classic beloved ...         0\n",
       "4  rzone awful movie! simple. seems tried make mo...         0"
      ]
     },
     "execution_count": 37,
     "metadata": {},
     "output_type": "execute_result"
    }
   ],
   "source": [
    "df = pd.read_csv('reddit_preprocessing.csv').dropna(subset=['clean_comment'])\n",
    "df.head()"
   ]
  },
  {
   "cell_type": "code",
   "execution_count": 38,
   "id": "6dd0e9b7-ca50-493d-a619-992d7f5724b7",
   "metadata": {},
   "outputs": [],
   "source": [
    "# Assuming your dataframe is df with columns: 'clean_comment', 'category'\n",
    "X = df['clean_comment']\n",
    "y = df['category']\n",
    "\n",
    "X_train, X_test, y_train, y_test = train_test_split(\n",
    "    X, y, test_size=0.2, random_state=42, stratify=y\n",
    ")\n"
   ]
  },
  {
   "cell_type": "code",
   "execution_count": 43,
   "id": "2ecdbeb6-a176-441c-a6d6-ed8359a4b7ce",
   "metadata": {},
   "outputs": [],
   "source": [
    "def run_experiment(vectorizer_type, ngram_range, max_features=5000):\n",
    "    # Vectorization\n",
    "    if vectorizer_type == \"BoW\":\n",
    "        vectorizer = CountVectorizer(ngram_range=ngram_range, max_features=max_features)\n",
    "    else:\n",
    "        vectorizer = TfidfVectorizer(ngram_range=ngram_range, max_features=max_features)\n",
    "\n",
    "    X_train_vec = vectorizer.fit_transform(X_train)\n",
    "    X_test_vec = vectorizer.transform(X_test)\n",
    "\n",
    "    # Logistic Regression + RandomizedSearchCV\n",
    "    param_dist = {\n",
    "        'C': [0.01, 0.1, 1, 10, 100],\n",
    "        'solver': ['liblinear', 'lbfgs'],\n",
    "        'max_iter': [100, 200, 300]\n",
    "    }\n",
    "\n",
    "    clf = LogisticRegression(random_state=42)\n",
    "    cv = StratifiedKFold(n_splits=5, shuffle=True, random_state=42)\n",
    "\n",
    "    random_search = RandomizedSearchCV(\n",
    "        clf, param_distributions=param_dist, n_iter=5,\n",
    "        scoring='f1_macro', n_jobs=-1, cv=cv, random_state=42, verbose=1\n",
    "    )\n",
    "\n",
    "    random_search.fit(X_train_vec, y_train)\n",
    "\n",
    "    # Predictions\n",
    "    y_pred = random_search.predict(X_test_vec)\n",
    "\n",
    "    # Metrics\n",
    "    acc = accuracy_score(y_test, y_pred)\n",
    "    prec = precision_score(y_test, y_pred, average='macro')\n",
    "    rec = recall_score(y_test, y_pred, average='macro')\n",
    "    f1 = f1_score(y_test, y_pred, average='macro')\n",
    "\n",
    "    # Confusion Matrix\n",
    "    cm = confusion_matrix(y_test, y_pred)\n",
    "    plt.figure(figsize=(6,5))\n",
    "    sns.heatmap(cm, annot=True, fmt='d', cmap='Blues')\n",
    "    plt.title(f'Confusion Matrix: {vectorizer_type} {ngram_range}')\n",
    "    plt.xlabel('Predicted')\n",
    "    plt.ylabel('Actual')\n",
    "    plt.show()\n",
    "\n",
    "    # Save model and vectorizer\n",
    "    model_filename = f'logreg_{vectorizer_type}_{ngram_range}.pkl'\n",
    "    vectorizer_filename = f'vectorizer_{vectorizer_type}_{ngram_range}.pkl'\n",
    "\n",
    "    with open(model_filename, 'wb') as f:\n",
    "        pickle.dump(random_search.best_estimator_, f)\n",
    "    with open(vectorizer_filename, 'wb') as f:\n",
    "        pickle.dump(vectorizer, f)\n",
    "\n",
    "    # Return results\n",
    "    return {\n",
    "        'vectorizer_type': vectorizer_type,\n",
    "        'ngram_range': ngram_range,\n",
    "        'accuracy': acc,\n",
    "        'precision': prec,\n",
    "        'recall': rec,\n",
    "        'f1': f1,\n",
    "        'best_params': random_search.best_params_\n",
    "    }\n",
    "\n"
   ]
  },
  {
   "cell_type": "code",
   "execution_count": 44,
   "id": "70f63276-0c5d-4f91-a3c0-bdc72899ae4b",
   "metadata": {},
   "outputs": [
    {
     "name": "stdout",
     "output_type": "stream",
     "text": [
      "Running experiment: BoW with ngram (1, 1)\n",
      "Fitting 5 folds for each of 5 candidates, totalling 25 fits\n"
     ]
    },
    {
     "data": {
      "image/png": "[encoded data removed]",
      "text/plain": [
       "<Figure size 600x500 with 2 Axes>"
      ]
     },
     "metadata": {},
     "output_type": "display_data"
    },
    {
     "name": "stdout",
     "output_type": "stream",
     "text": [
      "Running experiment: BoW with ngram (1, 2)\n",
      "Fitting 5 folds for each of 5 candidates, totalling 25 fits\n"
     ]
    },
    {
     "data": {
      "image/png": "[encoded data removed]",
      "text/plain": [
       "<Figure size 600x500 with 2 Axes>"
      ]
     },
     "metadata": {},
     "output_type": "display_data"
    },
    {
     "name": "stdout",
     "output_type": "stream",
     "text": [
      "Running experiment: BoW with ngram (1, 3)\n",
      "Fitting 5 folds for each of 5 candidates, totalling 25 fits\n"
     ]
    },
    {
     "data": {
      "image/png": "[encoded data removed]",
      "text/plain": [
       "<Figure size 600x500 with 2 Axes>"
      ]
     },
     "metadata": {},
     "output_type": "display_data"
    },
    {
     "name": "stdout",
     "output_type": "stream",
     "text": [
      "Running experiment: TF-IDF with ngram (1, 1)\n",
      "Fitting 5 folds for each of 5 candidates, totalling 25 fits\n"
     ]
    },
    {
     "data": {
      "image/png": "[encoded data removed]",
      "text/plain": [
       "<Figure size 600x500 with 2 Axes>"
      ]
     },
     "metadata": {},
     "output_type": "display_data"
    },
    {
     "name": "stdout",
     "output_type": "stream",
     "text": [
      "Running experiment: TF-IDF with ngram (1, 2)\n",
      "Fitting 5 folds for each of 5 candidates, totalling 25 fits\n"
     ]
    },
    {
     "data": {
      "image/png": "[encoded data removed]",
      "text/plain": [
       "<Figure size 600x500 with 2 Axes>"
      ]
     },
     "metadata": {},
     "output_type": "display_data"
    },
    {
     "name": "stdout",
     "output_type": "stream",
     "text": [
      "Running experiment: TF-IDF with ngram (1, 3)\n",
      "Fitting 5 folds for each of 5 candidates, totalling 25 fits\n"
     ]
    },
    {
     "data": {
      "image/png": "[encoded data removed]",
      "text/plain": [
       "<Figure size 600x500 with 2 Axes>"
      ]
     },
     "metadata": {},
     "output_type": "display_data"
    }
   ],
   "source": [
    "ngram_options = [(1,1), (1,2), (1,3)]  # unigrams, bigrams, trigrams\n",
    "vectorizers = [\"BoW\", \"TF-IDF\"]\n",
    "\n",
    "results = []\n",
    "\n",
    "for vec in vectorizers:\n",
    "    for ngram in ngram_options:\n",
    "        print(f\"Running experiment: {vec} with ngram {ngram}\")\n",
    "        result = run_experiment(vec, ngram, max_features=5000)\n",
    "        results.append(result)"
   ]
  },
  {
   "cell_type": "code",
   "execution_count": 45,
   "id": "871e94e0-ce55-474f-941a-6156641bef82",
   "metadata": {},
   "outputs": [
    {
     "name": "stdout",
     "output_type": "stream",
     "text": [
      "\n",
      "Best Result:\n",
      "vectorizer_type                                          TF-IDF\n",
      "ngram_range                                              (1, 3)\n",
      "accuracy                                               0.889179\n",
      "precision                                              0.889267\n",
      "recall                                                 0.889165\n",
      "f1                                                      0.88917\n",
      "best_params        {'solver': 'lbfgs', 'max_iter': 200, 'C': 1}\n",
      "Name: 5, dtype: object\n"
     ]
    }
   ],
   "source": [
    "results_df = pd.DataFrame(results)\n",
    "best_idx = results_df['f1'].idxmax()\n",
    "best_result = results_df.loc[best_idx]\n",
    "\n",
    "print(\"\\nBest Result:\")\n",
    "print(best_result)"
   ]
  },
  {
   "cell_type": "code",
   "execution_count": 47,
   "id": "c7e50040-b0c9-4fae-967f-31ce7fdaa7dc",
   "metadata": {},
   "outputs": [
    {
     "name": "stdout",
     "output_type": "stream",
     "text": [
      "Predicted category: 0\n"
     ]
    }
   ],
   "source": [
    "vectorizer_type = best_result['vectorizer_type']\n",
    "ngram_range = best_result['ngram_range']\n",
    "\n",
    "model_filename = f'logreg_{vectorizer_type}_{ngram_range}.pkl'\n",
    "vectorizer_filename = f'vectorizer_{vectorizer_type}_{ngram_range}.pkl'\n",
    "\n",
    "with open(model_filename, 'rb') as f:\n",
    "    model_best = pickle.load(f)\n",
    "\n",
    "with open(vectorizer_filename, 'rb') as f:\n",
    "    vectorizer_best = pickle.load(f)\n",
    "\n",
    "new_text = [\"Be very afraid of anyone who likes this film. They probably inhaled too many paint chips as a child. Its so awful I refuse to relive a plot. O yeah, there wasn't one! This movie is a true definition of what Hollywood creates for people who don't want to think at a theatre. Do the bad guys win? Do the good guys win? Who cares!\"]\n",
    "\n",
    "new_text_vec = vectorizer_best.transform(new_text)\n",
    "\n",
    "# Predict\n",
    "prediction = model_best.predict(new_text_vec)\n",
    "print(\"Predicted category:\", prediction[0])"
   ]
  },
  {
   "cell_type": "code",
   "execution_count": null,
   "id": "414f2fb3-dd96-4202-b23b-95aadfbaf5d0",
   "metadata": {},
   "outputs": [],
   "source": []
  },
  {
   "cell_type": "code",
   "execution_count": null,
   "id": "14af211f-5d63-4ed8-8cdb-b4aacdfc5af5",
   "metadata": {},
   "outputs": [],
   "source": []
  }
 ],
 "metadata": {
  "kernelspec": {
   "display_name": "venv",
   "language": "python",
   "name": "venv"
  },
  "language_info": {
   "codemirror_mode": {
    "name": "ipython",
    "version": 3
   },
   "file_extension": ".py",
   "mimetype": "text/x-python",
   "name": "python",
   "nbconvert_exporter": "python",
   "pygments_lexer": "ipython3",
   "version": "3.13.1"
  }
 },
 "nbformat": 4,
 "nbformat_minor": 5
}
