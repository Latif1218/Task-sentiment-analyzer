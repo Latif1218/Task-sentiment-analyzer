{
 "cells": [
  {
   "cell_type": "code",
   "execution_count": 1,
   "id": "b814a6c6-aeb4-40c2-b1d0-2a70f392866e",
   "metadata": {},
   "outputs": [],
   "source": [
    "import pandas as pd\n",
    "import numpy as np\n",
    "import matplotlib.pyplot as plt\n",
    "import seaborn as sns\n",
    "import pickle\n",
    "\n",
    "from sklearn.model_selection import train_test_split\n",
    "from sklearn.feature_extraction.text import TfidfVectorizer\n",
    "from sklearn.ensemble import StackingClassifier, RandomForestClassifier\n",
    "from sklearn.linear_model import LogisticRegression\n",
    "from sklearn.naive_bayes import MultinomialNB\n",
    "from sklearn.metrics import accuracy_score, precision_score, recall_score, f1_score, confusion_matrix\n",
    "from xgboost import XGBClassifier\n",
    "from lightgbm import LGBMClassifier"
   ]
  },
  {
   "cell_type": "code",
   "execution_count": 2,
   "id": "ddb27384-0ebe-4ebd-ad08-18b9147343ec",
   "metadata": {},
   "outputs": [],
   "source": [
    "# 1️ Load dataset\n",
    "df = pd.read_csv('reddit_preprocessing.csv').dropna(subset=['clean_comment'])\n",
    "df['category'] = df['category'].astype(int)\n",
    "\n",
    "X = df['clean_comment']\n",
    "y = df['category']\n",
    "\n",
    "# 2️ Train-Test Split\n",
    "X_train, X_test, y_train, y_test = train_test_split(X, y, test_size=0.2, random_state=42)\n",
    "\n",
    "# 3️ TF-IDF Vectorization\n",
    "vectorizer = TfidfVectorizer(max_features=5000)\n",
    "X_train_tfidf = vectorizer.fit_transform(X_train)\n",
    "X_test_tfidf = vectorizer.transform(X_test)\n"
   ]
  },
  {
   "cell_type": "code",
   "execution_count": 3,
   "id": "e6b4f1a7-e36e-4f2d-8e32-a0cff6a0a264",
   "metadata": {},
   "outputs": [
    {
     "name": "stderr",
     "output_type": "stream",
     "text": [
      "C:\\jupyter\\venv\\Lib\\site-packages\\sklearn\\utils\\validation.py:2739: UserWarning: X does not have valid feature names, but LGBMClassifier was fitted with feature names\n",
      "  warnings.warn(\n"
     ]
    },
    {
     "name": "stdout",
     "output_type": "stream",
     "text": [
      "Accuracy: 0.8980\n",
      "Precision: 0.8983\n",
      "Recall: 0.8980\n",
      "F1-score: 0.8980\n"
     ]
    },
    {
     "data": {
      "image/png": "[encoded data removed]",
      "text/plain": [
       "<Figure size 600x400 with 2 Axes>"
      ]
     },
     "metadata": {},
     "output_type": "display_data"
    }
   ],
   "source": [
    "# 4️ Base Learners\n",
    "base_learners = [\n",
    "    ('xgb', XGBClassifier(eval_metric='mlogloss', use_label_encoder=False, n_estimators=200, max_depth=6, learning_rate=0.1)),\n",
    "    ('lgbm', LGBMClassifier(n_estimators=200, max_depth=-1, learning_rate=0.1)),\n",
    "    ('rf', RandomForestClassifier(n_estimators=200, max_depth=10, random_state=42)),\n",
    "    ('nb', MultinomialNB(alpha=0.5)),\n",
    "    ('lr', LogisticRegression(max_iter=1000))\n",
    "]\n",
    "\n",
    "# 5️ Stacking Classifier\n",
    "stack_model = StackingClassifier(\n",
    "    estimators=base_learners,\n",
    "    final_estimator=LogisticRegression(max_iter=1000),\n",
    "    n_jobs=-1\n",
    ")\n",
    "\n",
    "# 6️ Train model\n",
    "stack_model.fit(X_train_tfidf, y_train)\n",
    "\n",
    "# 7️ Predictions\n",
    "y_pred = stack_model.predict(X_test_tfidf)\n",
    "\n",
    "# 8️ Metrics\n",
    "acc = accuracy_score(y_test, y_pred)\n",
    "prec = precision_score(y_test, y_pred, average='weighted')\n",
    "rec = recall_score(y_test, y_pred, average='weighted')\n",
    "f1 = f1_score(y_test, y_pred, average='weighted')\n",
    "\n",
    "print(f\"Accuracy: {acc:.4f}\")\n",
    "print(f\"Precision: {prec:.4f}\")\n",
    "print(f\"Recall: {rec:.4f}\")\n",
    "print(f\"F1-score: {f1:.4f}\")\n",
    "\n",
    "# 9️ Confusion Matrix\n",
    "cm = confusion_matrix(y_test, y_pred)\n",
    "plt.figure(figsize=(6,4))\n",
    "sns.heatmap(cm, annot=True, fmt='d', cmap='Blues')\n",
    "plt.xlabel('Predicted')\n",
    "plt.ylabel('Actual')\n",
    "plt.title('Confusion Matrix')\n",
    "plt.show()\n"
   ]
  },
  {
   "cell_type": "code",
   "execution_count": 4,
   "id": "87f77c92-1853-43ac-b62b-19b9bbaa7a47",
   "metadata": {},
   "outputs": [
    {
     "name": "stdout",
     "output_type": "stream",
     "text": [
      " Model saved as stacking_model.pkl\n"
     ]
    }
   ],
   "source": [
    "# Save model\n",
    "with open('stacking_model.pkl', 'wb') as f:\n",
    "    pickle.dump((stack_model, vectorizer), f)\n",
    "\n",
    "print(\" Model saved as stacking_model.pkl\")"
   ]
  },
  {
   "cell_type": "code",
   "execution_count": null,
   "id": "46787848-4633-415f-80d7-f7e06302daec",
   "metadata": {},
   "outputs": [],
   "source": []
  }
 ],
 "metadata": {
  "kernelspec": {
   "display_name": "venv",
   "language": "python",
   "name": "venv"
  },
  "language_info": {
   "codemirror_mode": {
    "name": "ipython",
    "version": 3
   },
   "file_extension": ".py",
   "mimetype": "text/x-python",
   "name": "python",
   "nbconvert_exporter": "python",
   "pygments_lexer": "ipython3",
   "version": "3.13.1"
  }
 },
 "nbformat": 4,
 "nbformat_minor": 5
}
