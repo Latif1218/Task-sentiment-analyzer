{
 "cells": [
  {
   "cell_type": "code",
   "execution_count": 1,
   "id": "495a4068-4dc9-4cfc-a15b-3dde0f19e1e2",
   "metadata": {},
   "outputs": [],
   "source": [
    "import pandas as pd\n",
    "import pickle\n",
    "import optuna\n",
    "from sklearn.model_selection import train_test_split\n",
    "from sklearn.feature_extraction.text import TfidfVectorizer\n",
    "from sklearn.metrics import accuracy_score, classification_report, confusion_matrix\n",
    "from sklearn.ensemble import RandomForestClassifier\n",
    "from imblearn.over_sampling import SMOTE\n",
    "import matplotlib.pyplot as plt\n",
    "import seaborn as sns"
   ]
  },
  {
   "cell_type": "code",
   "execution_count": 2,
   "id": "6c938d5b-d776-4dd4-bcd5-596fe1867528",
   "metadata": {},
   "outputs": [
    {
     "data": {
      "text/html": [
       "<div>\n",
       "<style scoped>\n",
       "    .dataframe tbody tr th:only-of-type {\n",
       "        vertical-align: middle;\n",
       "    }\n",
       "\n",
       "    .dataframe tbody tr th {\n",
       "        vertical-align: top;\n",
       "    }\n",
       "\n",
       "    .dataframe thead th {\n",
       "        text-align: right;\n",
       "    }\n",
       "</style>\n",
       "<table border=\"1\" class=\"dataframe\">\n",
       "  <thead>\n",
       "    <tr style=\"text-align: right;\">\n",
       "      <th></th>\n",
       "      <th>clean_comment</th>\n",
       "      <th>category</th>\n",
       "    </tr>\n",
       "  </thead>\n",
       "  <tbody>\n",
       "    <tr>\n",
       "      <th>0</th>\n",
       "      <td>film absolutely awful, but nevertheless, hilar...</td>\n",
       "      <td>0</td>\n",
       "    </tr>\n",
       "    <tr>\n",
       "      <th>1</th>\n",
       "      <td>well since seeing part 1 3 honestly say never ...</td>\n",
       "      <td>0</td>\n",
       "    </tr>\n",
       "    <tr>\n",
       "      <th>2</th>\n",
       "      <td>got see film preview dazzled it. not typical r...</td>\n",
       "      <td>1</td>\n",
       "    </tr>\n",
       "    <tr>\n",
       "      <th>3</th>\n",
       "      <td>adaptation positively butcher classic beloved ...</td>\n",
       "      <td>0</td>\n",
       "    </tr>\n",
       "    <tr>\n",
       "      <th>4</th>\n",
       "      <td>rzone awful movie! simple. seems tried make mo...</td>\n",
       "      <td>0</td>\n",
       "    </tr>\n",
       "  </tbody>\n",
       "</table>\n",
       "</div>"
      ],
      "text/plain": [
       "                                       clean_comment  category\n",
       "0  film absolutely awful, but nevertheless, hilar...         0\n",
       "1  well since seeing part 1 3 honestly say never ...         0\n",
       "2  got see film preview dazzled it. not typical r...         1\n",
       "3  adaptation positively butcher classic beloved ...         0\n",
       "4  rzone awful movie! simple. seems tried make mo...         0"
      ]
     },
     "execution_count": 2,
     "metadata": {},
     "output_type": "execute_result"
    }
   ],
   "source": [
    "df = pd.read_csv('reddit_preprocessing.csv').dropna(subset=['clean_comment'])\n",
    "df.head()"
   ]
  },
  {
   "cell_type": "code",
   "execution_count": 3,
   "id": "190e8fa6-41be-438e-aad2-e65165a49ba4",
   "metadata": {},
   "outputs": [],
   "source": [
    "df = df.dropna(subset=['category'])\n",
    "\n",
    "X_train, X_test, y_train, y_test = train_test_split(\n",
    "    df['clean_comment'],\n",
    "    df['category'],\n",
    "    test_size=0.2,\n",
    "    random_state=42,\n",
    "    stratify=df['category']\n",
    ")"
   ]
  },
  {
   "cell_type": "code",
   "execution_count": 4,
   "id": "856e4e4e-1c03-4a89-9ed5-8439d9673b01",
   "metadata": {},
   "outputs": [],
   "source": [
    "vectorizer = TfidfVectorizer(ngram_range=(1, 3), max_features=10000)\n",
    "X_train_vec = vectorizer.fit_transform(X_train)\n",
    "X_test_vec = vectorizer.transform(X_test)"
   ]
  },
  {
   "cell_type": "code",
   "execution_count": 5,
   "id": "5d61b92f-4df0-4f2c-9286-b0ece270c585",
   "metadata": {},
   "outputs": [],
   "source": [
    "smote = SMOTE(random_state=42)\n",
    "X_train_vec, y_train = smote.fit_resample(X_train_vec, y_train)"
   ]
  },
  {
   "cell_type": "code",
   "execution_count": 6,
   "id": "ac1a567b-8c30-4cd3-96c1-f38535a3e682",
   "metadata": {},
   "outputs": [
    {
     "name": "stderr",
     "output_type": "stream",
     "text": [
      "[I 2025-08-14 14:42:42,354] A new study created in memory with name: no-name-93e74e5b-3e8b-4364-800a-e6c1de306ade\n",
      "[I 2025-08-14 14:42:46,321] Trial 0 finished with value: 0.8407950210801044 and parameters: {'n_estimators': 260, 'max_depth': 15, 'min_samples_split': 7, 'min_samples_leaf': 2}. Best is trial 0 with value: 0.8407950210801044.\n",
      "[I 2025-08-14 14:42:50,434] Trial 1 finished with value: 0.8430034129692833 and parameters: {'n_estimators': 145, 'max_depth': 27, 'min_samples_split': 2, 'min_samples_leaf': 5}. Best is trial 1 with value: 0.8430034129692833.\n",
      "[I 2025-08-14 14:43:02,952] Trial 2 finished with value: 0.8488255370407549 and parameters: {'n_estimators': 255, 'max_depth': 35, 'min_samples_split': 3, 'min_samples_leaf': 4}. Best is trial 2 with value: 0.8488255370407549.\n",
      "[I 2025-08-14 14:43:09,533] Trial 3 finished with value: 0.8424011242722345 and parameters: {'n_estimators': 218, 'max_depth': 23, 'min_samples_split': 8, 'min_samples_leaf': 3}. Best is trial 2 with value: 0.8488255370407549.\n",
      "[I 2025-08-14 14:43:20,519] Trial 4 finished with value: 0.8452118048584621 and parameters: {'n_estimators': 266, 'max_depth': 28, 'min_samples_split': 5, 'min_samples_leaf': 4}. Best is trial 2 with value: 0.8488255370407549.\n",
      "[I 2025-08-14 14:43:41,693] Trial 5 finished with value: 0.8442079903633809 and parameters: {'n_estimators': 248, 'max_depth': 48, 'min_samples_split': 2, 'min_samples_leaf': 3}. Best is trial 2 with value: 0.8488255370407549.\n",
      "[I 2025-08-14 14:43:53,642] Trial 6 finished with value: 0.8518369805259988 and parameters: {'n_estimators': 203, 'max_depth': 35, 'min_samples_split': 10, 'min_samples_leaf': 2}. Best is trial 6 with value: 0.8518369805259988.\n",
      "[I 2025-08-14 14:44:00,721] Trial 7 finished with value: 0.8466171451515759 and parameters: {'n_estimators': 129, 'max_depth': 37, 'min_samples_split': 6, 'min_samples_leaf': 4}. Best is trial 6 with value: 0.8518369805259988.\n",
      "[I 2025-08-14 14:44:12,082] Trial 8 finished with value: 0.847420196747641 and parameters: {'n_estimators': 231, 'max_depth': 30, 'min_samples_split': 8, 'min_samples_leaf': 2}. Best is trial 6 with value: 0.8518369805259988.\n",
      "[I 2025-08-14 14:44:18,079] Trial 9 finished with value: 0.8387873920899418 and parameters: {'n_estimators': 188, 'max_depth': 18, 'min_samples_split': 2, 'min_samples_leaf': 4}. Best is trial 6 with value: 0.8518369805259988.\n",
      "[I 2025-08-14 14:44:20,314] Trial 10 finished with value: 0.8181088134912669 and parameters: {'n_estimators': 79, 'max_depth': 6, 'min_samples_split': 10, 'min_samples_leaf': 1}. Best is trial 6 with value: 0.8518369805259988.\n",
      "[I 2025-08-14 14:44:47,543] Trial 11 finished with value: 0.8538446095161614 and parameters: {'n_estimators': 289, 'max_depth': 44, 'min_samples_split': 4, 'min_samples_leaf': 1}. Best is trial 11 with value: 0.8538446095161614.\n",
      "[I 2025-08-14 14:45:16,079] Trial 12 finished with value: 0.8518369805259988 and parameters: {'n_estimators': 295, 'max_depth': 48, 'min_samples_split': 4, 'min_samples_leaf': 1}. Best is trial 11 with value: 0.8538446095161614.\n",
      "[I 2025-08-14 14:45:38,347] Trial 13 finished with value: 0.8486247741417386 and parameters: {'n_estimators': 300, 'max_depth': 40, 'min_samples_split': 10, 'min_samples_leaf': 2}. Best is trial 11 with value: 0.8538446095161614.\n",
      "[I 2025-08-14 14:45:59,888] Trial 14 finished with value: 0.8508331660309175 and parameters: {'n_estimators': 186, 'max_depth': 42, 'min_samples_split': 5, 'min_samples_leaf': 1}. Best is trial 11 with value: 0.8538446095161614.\n",
      "[I 2025-08-14 14:46:07,642] Trial 15 finished with value: 0.8484240112427224 and parameters: {'n_estimators': 98, 'max_depth': 43, 'min_samples_split': 9, 'min_samples_leaf': 2}. Best is trial 11 with value: 0.8538446095161614.\n",
      "[I 2025-08-14 14:46:27,284] Trial 16 finished with value: 0.8506324031319012 and parameters: {'n_estimators': 208, 'max_depth': 49, 'min_samples_split': 4, 'min_samples_leaf': 1}. Best is trial 11 with value: 0.8538446095161614.\n",
      "[I 2025-08-14 14:46:36,612] Trial 17 finished with value: 0.845814093555511 and parameters: {'n_estimators': 151, 'max_depth': 34, 'min_samples_split': 6, 'min_samples_leaf': 2}. Best is trial 11 with value: 0.8538446095161614.\n",
      "[I 2025-08-14 14:46:41,460] Trial 18 finished with value: 0.8446095161614133 and parameters: {'n_estimators': 57, 'max_depth': 44, 'min_samples_split': 7, 'min_samples_leaf': 1}. Best is trial 11 with value: 0.8538446095161614.\n",
      "[I 2025-08-14 14:46:50,832] Trial 19 finished with value: 0.8448102790604296 and parameters: {'n_estimators': 167, 'max_depth': 32, 'min_samples_split': 4, 'min_samples_leaf': 3}. Best is trial 11 with value: 0.8538446095161614.\n",
      "[I 2025-08-14 14:47:00,473] Trial 20 finished with value: 0.8498293515358362 and parameters: {'n_estimators': 113, 'max_depth': 39, 'min_samples_split': 9, 'min_samples_leaf': 2}. Best is trial 11 with value: 0.8538446095161614.\n",
      "[I 2025-08-14 14:47:31,635] Trial 21 finished with value: 0.8490262999397711 and parameters: {'n_estimators': 297, 'max_depth': 46, 'min_samples_split': 4, 'min_samples_leaf': 1}. Best is trial 11 with value: 0.8538446095161614.\n",
      "[I 2025-08-14 14:48:02,592] Trial 22 finished with value: 0.8518369805259988 and parameters: {'n_estimators': 280, 'max_depth': 50, 'min_samples_split': 3, 'min_samples_leaf': 1}. Best is trial 11 with value: 0.8538446095161614.\n",
      "[I 2025-08-14 14:48:28,142] Trial 23 finished with value: 0.8518369805259988 and parameters: {'n_estimators': 280, 'max_depth': 45, 'min_samples_split': 5, 'min_samples_leaf': 1}. Best is trial 11 with value: 0.8538446095161614.\n",
      "[I 2025-08-14 14:48:46,379] Trial 24 finished with value: 0.8456133306564947 and parameters: {'n_estimators': 236, 'max_depth': 38, 'min_samples_split': 3, 'min_samples_leaf': 2}. Best is trial 11 with value: 0.8538446095161614.\n",
      "[I 2025-08-14 14:49:03,751] Trial 25 finished with value: 0.852037743425015 and parameters: {'n_estimators': 207, 'max_depth': 40, 'min_samples_split': 5, 'min_samples_leaf': 1}. Best is trial 11 with value: 0.8538446095161614.\n",
      "[I 2025-08-14 14:49:12,301] Trial 26 finished with value: 0.8444087532623971 and parameters: {'n_estimators': 209, 'max_depth': 24, 'min_samples_split': 6, 'min_samples_leaf': 2}. Best is trial 11 with value: 0.8538446095161614.\n",
      "[I 2025-08-14 14:49:24,932] Trial 27 finished with value: 0.8554507127082915 and parameters: {'n_estimators': 193, 'max_depth': 34, 'min_samples_split': 7, 'min_samples_leaf': 1}. Best is trial 27 with value: 0.8554507127082915.\n",
      "[I 2025-08-14 14:49:38,189] Trial 28 finished with value: 0.8490262999397711 and parameters: {'n_estimators': 163, 'max_depth': 41, 'min_samples_split': 7, 'min_samples_leaf': 1}. Best is trial 27 with value: 0.8554507127082915.\n",
      "[I 2025-08-14 14:49:49,235] Trial 29 finished with value: 0.8450110419594459 and parameters: {'n_estimators': 230, 'max_depth': 32, 'min_samples_split': 7, 'min_samples_leaf': 5}. Best is trial 27 with value: 0.8554507127082915.\n"
     ]
    }
   ],
   "source": [
    "def objective(trial):\n",
    "    n_estimators = trial.suggest_int(\"n_estimators\", 50, 300)\n",
    "    max_depth = trial.suggest_int(\"max_depth\", 5, 50)\n",
    "    min_samples_split = trial.suggest_int(\"min_samples_split\", 2, 10)\n",
    "    min_samples_leaf = trial.suggest_int(\"min_samples_leaf\", 1, 5)\n",
    "\n",
    "    model = RandomForestClassifier(\n",
    "        n_estimators=n_estimators,\n",
    "        max_depth=max_depth,\n",
    "        min_samples_split=min_samples_split,\n",
    "        min_samples_leaf=min_samples_leaf,\n",
    "        random_state=42,\n",
    "        n_jobs=-1\n",
    "    )\n",
    "\n",
    "    model.fit(X_train_vec, y_train)\n",
    "    preds = model.predict(X_test_vec)\n",
    "    return accuracy_score(y_test, preds)\n",
    "\n",
    "study = optuna.create_study(direction=\"maximize\")\n",
    "study.optimize(objective, n_trials=30)"
   ]
  },
  {
   "cell_type": "code",
   "execution_count": 7,
   "id": "be62ac17-5623-4c13-9f62-d78f5fd7c27b",
   "metadata": {},
   "outputs": [
    {
     "name": "stdout",
     "output_type": "stream",
     "text": [
      "Best Hyperparameters: {'n_estimators': 193, 'max_depth': 34, 'min_samples_split': 7, 'min_samples_leaf': 1}\n"
     ]
    }
   ],
   "source": [
    "best_params = study.best_params\n",
    "print(\"Best Hyperparameters:\", best_params)\n",
    "\n",
    "best_model = RandomForestClassifier(\n",
    "    **best_params,\n",
    "    random_state=42,\n",
    "    n_jobs=-1\n",
    ")\n",
    "\n",
    "best_model.fit(X_train_vec, y_train)\n",
    "y_pred = best_model.predict(X_test_vec)"
   ]
  },
  {
   "cell_type": "code",
   "execution_count": 8,
   "id": "9e66b1c5-7ba9-401d-813e-7500ee13bafa",
   "metadata": {},
   "outputs": [
    {
     "name": "stdout",
     "output_type": "stream",
     "text": [
      "Accuracy: 0.8554507127082915\n",
      "\n",
      "Classification Report:\n",
      "               precision    recall  f1-score   support\n",
      "\n",
      "    Negative       0.87      0.84      0.85      2486\n",
      "    Positive       0.84      0.87      0.86      2495\n",
      "\n",
      "    accuracy                           0.86      4981\n",
      "   macro avg       0.86      0.86      0.86      4981\n",
      "weighted avg       0.86      0.86      0.86      4981\n",
      "\n"
     ]
    }
   ],
   "source": [
    "accuracy = accuracy_score(y_test, y_pred)\n",
    "print(\"Accuracy:\", accuracy)\n",
    "print(\"\\nClassification Report:\\n\", classification_report(y_test, y_pred, target_names=[\"Negative\", \"Positive\"]))"
   ]
  },
  {
   "cell_type": "code",
   "execution_count": 9,
   "id": "af8ef9d8-132e-4473-a9ec-a29b0ad2a892",
   "metadata": {},
   "outputs": [
    {
     "data": {
      "image/png": "[encoded data removed]",
      "text/plain": [
       "<Figure size 600x500 with 2 Axes>"
      ]
     },
     "metadata": {},
     "output_type": "display_data"
    }
   ],
   "source": [
    "cm = confusion_matrix(y_test, y_pred)\n",
    "plt.figure(figsize=(6,5))\n",
    "sns.heatmap(cm, annot=True, fmt='d', cmap='Blues',\n",
    "            xticklabels=[\"Negative\", \"Positive\"],\n",
    "            yticklabels=[\"Negative\", \"Positive\"])\n",
    "plt.xlabel(\"Predicted\")\n",
    "plt.ylabel(\"Actual\")\n",
    "plt.title(\"Confusion Matrix\")\n",
    "plt.show()"
   ]
  },
  {
   "cell_type": "code",
   "execution_count": null,
   "id": "9adc9028-6b45-40ec-852d-4940db149197",
   "metadata": {},
   "outputs": [],
   "source": []
  }
 ],
 "metadata": {
  "kernelspec": {
   "display_name": "venv",
   "language": "python",
   "name": "venv"
  },
  "language_info": {
   "codemirror_mode": {
    "name": "ipython",
    "version": 3
   },
   "file_extension": ".py",
   "mimetype": "text/x-python",
   "name": "python",
   "nbconvert_exporter": "python",
   "pygments_lexer": "ipython3",
   "version": "3.13.1"
  }
 },
 "nbformat": 4,
 "nbformat_minor": 5
}
